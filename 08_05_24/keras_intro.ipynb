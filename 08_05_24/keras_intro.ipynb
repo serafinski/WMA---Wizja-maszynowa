{
  "nbformat": 4,
  "nbformat_minor": 0,
  "metadata": {
    "colab": {
      "provenance": []
    },
    "kernelspec": {
      "name": "python3",
      "display_name": "Python 3"
    }
  },
  "cells": [
    {
      "cell_type": "markdown",
      "metadata": {
        "id": "QBZKUA3Uccv6"
      },
      "source": [
        "# Wprowadzenie do pracy z pakietem Keras\n",
        "**Autor**: Paweł Przestrzelski\n",
        "\n",
        "**Na podstawie**: Chollet F. (2019) *Deep Learning. Praca z językiem Python i bilbioteką Keras*. Helion\n",
        "\n",
        "***Keras*** jest biblioteką, która stanowi wysokopoziomowe API do pracy z sieciami neuronowymi. \"Pod maską\" może ona pracować zarówno za pomocą silnika TensorFlow, Theano, jak i CNTK. Domyślnie Keras będzie pracował z TensorFlow oraz jego biblioteką operacji tensorowych. ***Tesnor*** jest strukturą danych. Jest on uogólnieniem macierzy w przestrzeniach  o dowolnej liczbie wymiarów. W kontekście tensorów wymiary nazywamy osiami, a ich liczbę - rangą. Podczas pracy z uczeniem głębokim pracuje się z tensorami mającymi od 0 do 4 wymiarów. Przetwarzając dane wideo można napotkać również tensory pięciowymiarowe.\n",
        "\n",
        "Na typowy przepływ pracy z pakietem Keras składaja się:\n",
        "\n",
        "1. zdefiniowanie danych treningowych: tensory wejściowe i tensory wartości docelowych - ogólnie przygotowanie danych, w zależności od specyfiki zadania\n",
        "2. zdefiniowanie warstw sieci (lub modelu) przypisując dane wejściowe do docelowych wartości\n",
        "3. konfiguracja procesu uczenia: wybranie funkcji straty, optymalizatora i monitorowanie metryki - metoda *compile()*\n",
        "4. wykonanie iteracji procesu uczenia na danych treningowych - metoda *fit()*\n",
        "5. używanie wytrenowanej sieci do generowania przewidywań dotyczących nowych danych - metoda *predict()*\n",
        "\n",
        "Punkt (2) można zrealizować dwojako: poprzez użycie klasy *Sequential*, ale tylko dla liniowych stosów warstw (obecnie najpopularniejsza architektura sieci) lub poprzez funkcjonalny interfejs API. Funkcjonalny, gdyż w tym wariancie przeprowadzasz operacje na tensorach danych przetwarzanych przez model - przetwarzasz tensory przez wartswy sieci tak, jakby były funkcjami."
      ]
    },
    {
      "cell_type": "markdown",
      "metadata": {
        "id": "kD-pw7Oaii1M"
      },
      "source": [
        "## Przydatne linki:\n",
        "* instalacja: https://keras.io/#installation\n",
        "* klasa Sequential: https://keras.io/getting-started/sequential-model-guide/\n",
        "  * warstwa Dense (gęsto połaczona): https://keras.io/layers/core/#dense\n",
        "  * funkcje aktywacji: https://keras.io/layers/core/#activation\n",
        "* kompilacja modelu: https://keras.io/models/model/#compile\n",
        "  * optymalizatory: https://keras.io/optimizers/\n",
        "  * funkcje straty: https://keras.io/losses/\n",
        "  * metryki: https://keras.io/metrics/\n",
        "* trenowanie sieci: https://keras.io/models/model/#fit\n",
        "* ewaluacja modelu: https://keras.io/models/model/#evaluate\n",
        "* predykcja: https://keras.io/models/model/#predict"
      ]
    },
    {
      "cell_type": "markdown",
      "metadata": {
        "id": "ysyHfjM6Xyz1"
      },
      "source": [
        "## Przykład praktyczny\n",
        "\n",
        "Zbiór danych IMDB obejmuje 50 000 spolaryzowanych (czyt. pozytywne lub negatywne) recenzji opublikowanych w serwisie Internet Movie Database. Podzielono je w stosunku 50/50 na zbiór treningowy i testowy. Każdy z nich składa się w połowie z recenzji pozytywnych i negatywnych.\n"
      ]
    },
    {
      "cell_type": "code",
      "metadata": {
        "id": "nEl0USdoXyil",
        "outputId": "03fbd9ef-d627-4a5d-8242-7eaa71f3e055",
        "colab": {
          "base_uri": "https://localhost:8080/",
          "height": 69
        }
      },
      "source": [
        "## (1) Przygotowanie danych\n",
        "# Wczytywanie danych\n",
        "from keras.datasets import imdb\n",
        "\n",
        "# num_words=10000 - ograniczamy się do 10 000 słów najczęściej\n",
        "# występujących w treningowym zbiorze danych. Umożliwi to pracę z wekorem danych\n",
        "# o rozmiarze umożliwiającym jego przetwarzanie.\n",
        "(train_data, train_labels), (test_data, test_labels) = imdb.load_data(num_words=10000)"
      ],
      "execution_count": null,
      "outputs": [
        {
          "output_type": "stream",
          "text": [
            "Using TensorFlow backend.\n"
          ],
          "name": "stderr"
        },
        {
          "output_type": "stream",
          "text": [
            "Downloading data from https://s3.amazonaws.com/text-datasets/imdb.npz\n",
            "17465344/17464789 [==============================] - 2s 0us/step\n"
          ],
          "name": "stdout"
        }
      ]
    },
    {
      "cell_type": "code",
      "metadata": {
        "id": "lm9y5cemZU06",
        "outputId": "d33af2e6-19fb-4550-e98e-e682caf9b0f8",
        "colab": {
          "base_uri": "https://localhost:8080/",
          "height": 106
        }
      },
      "source": [
        "# Zmienne train_data i test_data są listami recenzji, każda jest listą indeksów\n",
        "# słów (zakodowaną sekwencją słów). Zmienne train_labels i test_labels\n",
        "# zawierają etykiet w postaci zer (recenzja negatywna) i jedynek (recenzja pozytywna)\n",
        "print('Próbki danych:\\n', train_data[0])\n",
        "print('Etykiety:\\n', train_labels[0])"
      ],
      "execution_count": null,
      "outputs": [
        {
          "output_type": "stream",
          "text": [
            "Próbki danych:\n",
            " [1, 14, 22, 16, 43, 530, 973, 1622, 1385, 65, 458, 4468, 66, 3941, 4, 173, 36, 256, 5, 25, 100, 43, 838, 112, 50, 670, 2, 9, 35, 480, 284, 5, 150, 4, 172, 112, 167, 2, 336, 385, 39, 4, 172, 4536, 1111, 17, 546, 38, 13, 447, 4, 192, 50, 16, 6, 147, 2025, 19, 14, 22, 4, 1920, 4613, 469, 4, 22, 71, 87, 12, 16, 43, 530, 38, 76, 15, 13, 1247, 4, 22, 17, 515, 17, 12, 16, 626, 18, 2, 5, 62, 386, 12, 8, 316, 8, 106, 5, 4, 2223, 5244, 16, 480, 66, 3785, 33, 4, 130, 12, 16, 38, 619, 5, 25, 124, 51, 36, 135, 48, 25, 1415, 33, 6, 22, 12, 215, 28, 77, 52, 5, 14, 407, 16, 82, 2, 8, 4, 107, 117, 5952, 15, 256, 4, 2, 7, 3766, 5, 723, 36, 71, 43, 530, 476, 26, 400, 317, 46, 7, 4, 2, 1029, 13, 104, 88, 4, 381, 15, 297, 98, 32, 2071, 56, 26, 141, 6, 194, 7486, 18, 4, 226, 22, 21, 134, 476, 26, 480, 5, 144, 30, 5535, 18, 51, 36, 28, 224, 92, 25, 104, 4, 226, 65, 16, 38, 1334, 88, 12, 16, 283, 5, 16, 4472, 113, 103, 32, 15, 16, 5345, 19, 178, 32]\n",
            "Etykiety:\n",
            " 1\n"
          ],
          "name": "stdout"
        }
      ]
    },
    {
      "cell_type": "code",
      "metadata": {
        "id": "hBQyE9zIaSam",
        "outputId": "c0953a9d-8293-4b8e-8696-972269843b13",
        "colab": {
          "base_uri": "https://localhost:8080/",
          "height": 72
        }
      },
      "source": [
        "# Ciekawostka: odkodowanie recenzji\n",
        "word_index = imdb.get_word_index()\n",
        "reverse_word_index = dict(\n",
        "    [(value, key) for (key, value) in word_index.items()]\n",
        ")\n",
        "decoded_review = ' '.join(\n",
        "    [reverse_word_index.get(i - 3, '?') for i in train_data[0]]\n",
        ")\n",
        "print('Zdekodowana recenzja:\\n', decoded_review)"
      ],
      "execution_count": null,
      "outputs": [
        {
          "output_type": "stream",
          "text": [
            "Zdekodowana recenzja:\n",
            " ? this film was just brilliant casting location scenery story direction everyone's really suited the part they played and you could just imagine being there robert ? is an amazing actor and now the same being director ? father came from the same scottish island as myself so i loved the fact there was a real connection with this film the witty remarks throughout the film were great it was just brilliant so much that i bought the film as soon as it was released for ? and would recommend it to everyone to watch and the fly fishing was amazing really cried at the end it was so sad and you know what they say if you cry at a film it must have been good and this definitely was also ? to the two little boy's that played the ? of norman and paul they were just brilliant children are often left out of the ? list i think because the stars that play them all grown up are such a big profile for the whole film but these children are amazing and should be praised for what they have done don't you think the whole story was so lovely because it was true and was someone's life after all that was shared with us all\n"
          ],
          "name": "stdout"
        }
      ]
    },
    {
      "cell_type": "code",
      "metadata": {
        "id": "9VHmqM-7bxS5",
        "outputId": "ead8f181-6b12-471c-887e-f4f83a600324",
        "colab": {
          "base_uri": "https://localhost:8080/",
          "height": 191
        }
      },
      "source": [
        "# Listy wartości całkowitoliczbowych należy zamienić na listę tensorów, aby móc\n",
        "# ją przekazać do sieci neuronowej.\n",
        "# Zakodujemy listy tak, aby zmienić je w wektory zer i jedynek. Oznacza to, np.\n",
        "# zamienienie sekwencji [3, 5] na wektor mający 10 000 wymiarów, który\n",
        "# będzie wypełniony samymi zerami, a tylko pod indeksami o numerach 3 i 5\n",
        "# znajdą się jedynki.\n",
        "\n",
        "# Dla przejrzystości przykładu wykonamy to manualnie:\n",
        "import numpy as np\n",
        "\n",
        "def vectorize_sequences(sequences, dimension=10000):\n",
        "  results = np.zeros((len(sequences), dimension))\n",
        "  for i, sequence in enumerate(sequences):\n",
        "    results[i, sequence] = 1.  # pod wybranymi indeksami umieszcza wartość 1.\n",
        "\n",
        "  return results\n",
        "\n",
        "x_train = vectorize_sequences(train_data)\n",
        "x_test = vectorize_sequences(test_data)\n",
        "\n",
        "# Wyświetlmy próbki po zmianach\n",
        "print('Próbki po zmianach:\\n', x_train)\n",
        "\n",
        "# Zamieńmy jeszcze etykiety próbek na wektory\n",
        "y_train = np.asarray(train_labels).astype('float32')\n",
        "y_test = np.asarray(test_labels).astype('float32')\n",
        "print('Etykiety po zmianach:\\n', y_train)"
      ],
      "execution_count": null,
      "outputs": [
        {
          "output_type": "stream",
          "text": [
            "Próbki po zmianach:\n",
            " [[0. 1. 1. ... 0. 0. 0.]\n",
            " [0. 1. 1. ... 0. 0. 0.]\n",
            " [0. 1. 1. ... 0. 0. 0.]\n",
            " ...\n",
            " [0. 1. 1. ... 0. 0. 0.]\n",
            " [0. 1. 1. ... 0. 0. 0.]\n",
            " [0. 1. 1. ... 0. 0. 0.]]\n",
            "Etykiety po zmianach:\n",
            " [1. 0. 0. ... 0. 1. 0.]\n"
          ],
          "name": "stdout"
        }
      ]
    },
    {
      "cell_type": "code",
      "metadata": {
        "id": "SAcFuA0LSOEE"
      },
      "source": [
        "## (2) Budowanie sieci neuronowej\n",
        "\n",
        "# Sieć ma za zadanie zwracać wartości prawdopodobieństw przynależności\n",
        "# recenzji do jednej z kategorii: pozytywnej (1) lub negatywnej (0).\n",
        "from keras import models\n",
        "from keras import layers\n",
        "\n",
        "# Wykorzystamy dwie wartswy ukryte. Warstwę wejściową sieci stanowią\n",
        "# sygnały wejściowe (dane), które wprowadzane są do neuronów, czyli\n",
        "# pierwszej warstwy ukrytej.\n",
        "model = models.Sequential()\n",
        "model.add(layers.Dense(16, activation='relu', input_shape=(10000,)))\n",
        "model.add(layers.Dense(16, activation='relu'))\n",
        "model.add(layers.Dense(1, activation='sigmoid'))  # po zastosowaniu funkcji sigmoidalnej\n",
        "                                                  # na wyjściu uzyskami wartości\n",
        "                                                  # z zakresu <0; 1>"
      ],
      "execution_count": null,
      "outputs": []
    },
    {
      "cell_type": "code",
      "metadata": {
        "id": "hM6wBgHgTauH"
      },
      "source": [
        "## (3) Konfiguracja/Kompilowanie modelu\n",
        "\n",
        "# Za optymalizator posłuży RMSprop\n",
        "# Za funkcję straty najlepiej w naszym przypadku przyjąć binary_crossentropy,\n",
        "# czyli funkcję binarnej entropii krzyżowej. Możemy tutaj użyć innych funkcji,\n",
        "# ale entropia krzyżowa jest zwykle najlepszą opcją w przypadku modeli\n",
        "# zwracających wartości prawdopodobieństw. Termin entropii krzyżowej wywodzi\n",
        "# się z teorii informacji, jest to miara odległości pomiędzy rozkładami prawdo-\n",
        "# podobieństwa, a w tym przypadku rozkładem prawdziwych wartości i rozkładem\n",
        "# przewidywanych wartości.\n",
        "# Podczas trenowania będziemy obserwować dokładność (ang. accuracy)\n",
        "model.compile(optimizer='rmsprop',\n",
        "              loss='binary_crossentropy',\n",
        "              metrics=['accuracy'])\n",
        "\n",
        "# Czasami zachodzi konieczność skonfigurowania parametrów optymalizatora\n",
        "# lub przekazania samodzielnie wykonanej funkcji straty lub funkcji metryki.\n",
        "# Można to zrobić, przekazując instancję klasy optymalizator jako\n",
        "# argument optimizer i przekazując funkcję obiektów jako argumenty\n",
        "# loss i metrics:\n",
        "# model.compile(optimizer=optimizers.RMSprop(lr=0.001),\n",
        "#               loss=losses.binary_crossentropy,\n",
        "#               metrics=[metrics.binary_accuracy])"
      ],
      "execution_count": null,
      "outputs": []
    },
    {
      "cell_type": "code",
      "metadata": {
        "id": "NpVFIpqtV0kT"
      },
      "source": [
        "## (4) Trenowanie i walidacja modelu\n",
        "# Tworzenie zbioru walidacyjnego\n",
        "x_val = x_train[:10000]\n",
        "partial_x_train = x_train[10000:]\n",
        "\n",
        "y_val = y_train[:10000]\n",
        "partial_y_train = y_train[10000:]"
      ],
      "execution_count": null,
      "outputs": []
    },
    {
      "cell_type": "code",
      "metadata": {
        "id": "gD-5MANAWku5",
        "outputId": "8346c0d2-0658-43d2-c96f-4d3c63667527",
        "colab": {
          "base_uri": "https://localhost:8080/",
          "height": 746
        }
      },
      "source": [
        "# Trenowanie modelu\n",
        "# Będziemy trenować model przez 20 epok, czyli wykonamy 20 iteracji\n",
        "# próbek znajdujących się w tesorach partial_x_train i partial_y_train\n",
        "# z podziałem na wsady (ang. batch) po 512 próbek.\n",
        "history = model.fit(partial_x_train,\n",
        "                    partial_y_train,\n",
        "                    epochs=20,\n",
        "                    batch_size=512,\n",
        "                    validation_data=(x_val, y_val))\n",
        "\n",
        "# Podczas uczenia monitorować będziemy funkcję stray i dokładność\n",
        "# modelu przy przetwarzaniu 10 000 próbek walidacyjnych, które zostały\n",
        "# odłożone przed chwilą (validation_data).\n",
        "\n",
        "# Wywołanie metody fit() zwraca obiekt History, który z kolei mieści\n",
        "# element o nazwie history. Jest to słownik zawierający dane dotyczące\n",
        "# przebiegu trenowania\n",
        "history_dict = history.history\n",
        "print(history_dict.keys())"
      ],
      "execution_count": null,
      "outputs": [
        {
          "output_type": "stream",
          "text": [
            "Train on 15000 samples, validate on 10000 samples\n",
            "Epoch 1/20\n",
            "15000/15000 [==============================] - 2s 166us/step - loss: 0.5366 - accuracy: 0.7749 - val_loss: 0.4103 - val_accuracy: 0.8606\n",
            "Epoch 2/20\n",
            "15000/15000 [==============================] - 2s 142us/step - loss: 0.3269 - accuracy: 0.8993 - val_loss: 0.3231 - val_accuracy: 0.8816\n",
            "Epoch 3/20\n",
            "15000/15000 [==============================] - 2s 142us/step - loss: 0.2397 - accuracy: 0.9243 - val_loss: 0.3018 - val_accuracy: 0.8773\n",
            "Epoch 4/20\n",
            "15000/15000 [==============================] - 2s 142us/step - loss: 0.1838 - accuracy: 0.9430 - val_loss: 0.2744 - val_accuracy: 0.8894\n",
            "Epoch 5/20\n",
            "15000/15000 [==============================] - 2s 143us/step - loss: 0.1513 - accuracy: 0.9517 - val_loss: 0.2834 - val_accuracy: 0.8868\n",
            "Epoch 6/20\n",
            "15000/15000 [==============================] - 2s 143us/step - loss: 0.1267 - accuracy: 0.9582 - val_loss: 0.2880 - val_accuracy: 0.8875\n",
            "Epoch 7/20\n",
            "15000/15000 [==============================] - 2s 143us/step - loss: 0.1033 - accuracy: 0.9701 - val_loss: 0.3091 - val_accuracy: 0.8828\n",
            "Epoch 8/20\n",
            "15000/15000 [==============================] - 2s 141us/step - loss: 0.0859 - accuracy: 0.9760 - val_loss: 0.3329 - val_accuracy: 0.8771\n",
            "Epoch 9/20\n",
            "15000/15000 [==============================] - 2s 141us/step - loss: 0.0750 - accuracy: 0.9789 - val_loss: 0.3712 - val_accuracy: 0.8723\n",
            "Epoch 10/20\n",
            "15000/15000 [==============================] - 2s 138us/step - loss: 0.0621 - accuracy: 0.9845 - val_loss: 0.3613 - val_accuracy: 0.8792\n",
            "Epoch 11/20\n",
            "15000/15000 [==============================] - 2s 136us/step - loss: 0.0496 - accuracy: 0.9887 - val_loss: 0.4359 - val_accuracy: 0.8623\n",
            "Epoch 12/20\n",
            "15000/15000 [==============================] - 2s 137us/step - loss: 0.0416 - accuracy: 0.9913 - val_loss: 0.4335 - val_accuracy: 0.8674\n",
            "Epoch 13/20\n",
            "15000/15000 [==============================] - 2s 135us/step - loss: 0.0358 - accuracy: 0.9911 - val_loss: 0.4533 - val_accuracy: 0.8721\n",
            "Epoch 14/20\n",
            "15000/15000 [==============================] - 2s 134us/step - loss: 0.0255 - accuracy: 0.9959 - val_loss: 0.4679 - val_accuracy: 0.8716\n",
            "Epoch 15/20\n",
            "15000/15000 [==============================] - 2s 134us/step - loss: 0.0231 - accuracy: 0.9955 - val_loss: 0.5010 - val_accuracy: 0.8704\n",
            "Epoch 16/20\n",
            "15000/15000 [==============================] - 2s 136us/step - loss: 0.0166 - accuracy: 0.9982 - val_loss: 0.5338 - val_accuracy: 0.8680\n",
            "Epoch 17/20\n",
            "15000/15000 [==============================] - 2s 135us/step - loss: 0.0131 - accuracy: 0.9988 - val_loss: 0.6130 - val_accuracy: 0.8607\n",
            "Epoch 18/20\n",
            "15000/15000 [==============================] - 2s 136us/step - loss: 0.0136 - accuracy: 0.9983 - val_loss: 0.6056 - val_accuracy: 0.8679\n",
            "Epoch 19/20\n",
            "15000/15000 [==============================] - 2s 136us/step - loss: 0.0079 - accuracy: 0.9995 - val_loss: 0.6535 - val_accuracy: 0.8653\n",
            "Epoch 20/20\n",
            "15000/15000 [==============================] - 2s 138us/step - loss: 0.0071 - accuracy: 0.9993 - val_loss: 0.6742 - val_accuracy: 0.8661\n",
            "dict_keys(['val_loss', 'val_accuracy', 'loss', 'accuracy'])\n"
          ],
          "name": "stdout"
        }
      ]
    },
    {
      "cell_type": "code",
      "metadata": {
        "id": "q3JCiamXYdXl",
        "outputId": "9dd74856-8da3-4cfb-b9e7-a3e4fb8a92cf",
        "colab": {
          "base_uri": "https://localhost:8080/",
          "height": 295
        }
      },
      "source": [
        "# Wizualizacja efektu procesu uczenia sieci\n",
        "import matplotlib.pyplot as plt\n",
        "\n",
        "acc = history.history['accuracy']\n",
        "val_acc = history.history['val_accuracy']\n",
        "loss = history.history['loss']\n",
        "val_loss = history.history['val_loss']\n",
        "\n",
        "epochs = range(1, len(acc) + 1)\n",
        "\n",
        "plt.plot(epochs, loss, 'bo', label='Strata trenowania')\n",
        "plt.plot(epochs, val_loss, 'b', label='Strata walidacji')\n",
        "plt.title('Wartość funkcji straty')\n",
        "plt.xlabel('Epoki')\n",
        "plt.ylabel('Strata')\n",
        "plt.legend()\n",
        "plt.show()"
      ],
      "execution_count": null,
      "outputs": [
        {
          "output_type": "display_data",
          "data": {
            "image/png": "[encoded data removed]",
            "text/plain": [
              "<Figure size 432x288 with 1 Axes>"
            ]
          },
          "metadata": {
            "tags": [],
            "needs_background": "light"
          }
        }
      ]
    },
    {
      "cell_type": "code",
      "metadata": {
        "id": "o-yJ3kf9dA7r",
        "outputId": "693fd4d7-26a9-4c38-da09-b8e78a990bfa",
        "colab": {
          "base_uri": "https://localhost:8080/",
          "height": 295
        }
      },
      "source": [
        "plt.clf() # czyścimy wykres\n",
        "\n",
        "plt.plot(epochs, acc, 'bo', label='Dokładność trenowania')\n",
        "plt.plot(epochs, val_acc, 'b', label='Dokładność walidacji')\n",
        "plt.title('Dokładność trenowania i walidacji')\n",
        "plt.xlabel('Epoki')\n",
        "plt.ylabel('Strata')\n",
        "plt.legend()\n",
        "plt.show()"
      ],
      "execution_count": null,
      "outputs": [
        {
          "output_type": "display_data",
          "data": {
            "image/png": "[encoded data removed]",
            "text/plain": [
              "<Figure size 432x288 with 1 Axes>"
            ]
          },
          "metadata": {
            "tags": [],
            "needs_background": "light"
          }
        }
      ]
    },
    {
      "cell_type": "code",
      "metadata": {
        "id": "JGb-Fz9cdVZ-",
        "outputId": "f6515841-1b48-4a14-c802-275bd59ba4a3",
        "colab": {
          "base_uri": "https://localhost:8080/",
          "height": 34
        }
      },
      "source": [
        "# UWAGA!\n",
        "# Przeglądając wyniki nauki sieci zauwazyć należy, iż strata trenowania spada\n",
        "# z każdą kolejną iteracją, a dokładność wzrasta (wartości wykropkowane na\n",
        "# obu wykresach). Tego oczekiwaliśmy! ALE w około czwartej epoce strata\n",
        "# walidacji rośnie (choć oczekujemy, że będzie maleć), a dokładność walidacji\n",
        "# spada. Oznacza to nadmierne dopasowanie modelu do danych uczących! Można\n",
        "# tutaj zastosować różne techniki zapobiegające nadmiernemu dopasowaniu, ale\n",
        "# na potrzeby przykładu liczba epok uczących zostanie po prostu ograniczona\n",
        "# do 4-ech.\n",
        "\n",
        "# Ponowne uczenie modelu, ale na pełnych danych treningowych\n",
        "model = models.Sequential()\n",
        "model.add(layers.Dense(16, activation='relu', input_shape=(10000,)))\n",
        "model.add(layers.Dense(16, activation='relu'))\n",
        "model.add(layers.Dense(1, activation='sigmoid'))\n",
        "\n",
        "model.compile(optimizer='rmsprop',\n",
        "              loss='binary_crossentropy',\n",
        "              metrics=['accuracy'])\n",
        "\n",
        "# verbose=0 wyłącza kompletnie informacje nt procesu uczenia\n",
        "model.fit(x_train, y_train, epochs=4, batch_size=512, verbose=0)"
      ],
      "execution_count": null,
      "outputs": [
        {
          "output_type": "execute_result",
          "data": {
            "text/plain": [
              "<keras.callbacks.callbacks.History at 0x7f1f99e995f8>"
            ]
          },
          "metadata": {
            "tags": []
          },
          "execution_count": 29
        }
      ]
    },
    {
      "cell_type": "code",
      "metadata": {
        "id": "2nSFRjmMfemW",
        "outputId": "86e80087-3e39-4ce2-8d68-0e7cf394adbe",
        "colab": {
          "base_uri": "https://localhost:8080/",
          "height": 86
        }
      },
      "source": [
        "# Wykonajmy jeszcze ewaluację wyuczonego modelu\n",
        "results = model.evaluate(x_test, y_test)\n",
        "print('Dokładność wytrenowanego modelu:')\n",
        "print('\\tEtykiety: ', model.metrics_names)\n",
        "print('\\tWartości: ', results)"
      ],
      "execution_count": null,
      "outputs": [
        {
          "output_type": "stream",
          "text": [
            "25000/25000 [==============================] - 2s 78us/step\n",
            "Dokładność wytrenowanego modelu:\n",
            "\tEtykiety:  ['loss', 'accuracy']\n",
            "\tWartości:  [0.3049865667629242, 0.8794800043106079]\n"
          ],
          "name": "stdout"
        }
      ]
    },
    {
      "cell_type": "code",
      "metadata": {
        "id": "JPYlImVugh2p",
        "outputId": "af3066d4-cf49-4c8d-f29d-fce5ecb39b24",
        "colab": {
          "base_uri": "https://localhost:8080/",
          "height": 139
        }
      },
      "source": [
        "# (5) Praktyczne użycie wytrenowanego modelu\n",
        "predictions = model.predict(x_test)\n",
        "print(predictions)"
      ],
      "execution_count": null,
      "outputs": [
        {
          "output_type": "stream",
          "text": [
            "[[0.17475373]\n",
            " [0.99986583]\n",
            " [0.8668706 ]\n",
            " ...\n",
            " [0.09412366]\n",
            " [0.06889611]\n",
            " [0.4108573 ]]\n"
          ],
          "name": "stdout"
        }
      ]
    },
    {
      "cell_type": "code",
      "metadata": {
        "id": "IzCRyEUdg2gw"
      },
      "source": [
        "# Jak widać powyżej sieć w niektórych przypadkach jest bardzo\n",
        "# pewna swoich osądów (wartości zbliżone do ~1 lub ~0), ale w niektórych\n",
        "# przypadkach są to wartości ~ 0.5."
      ],
      "execution_count": null,
      "outputs": []
    },
    {
      "cell_type": "code",
      "metadata": {
        "id": "wjOK0jNUhU5M"
      },
      "source": [
        "## DALSZE EKSPERYMENTY:\n",
        "# + W modelu korzystano z dwóch warstw ukrytych. Dodaj 1 lub 3 wartswy ukryte\n",
        "#   i zweryfikuj dokładność działania sieci\n",
        "# + Zmień wartość jednostek w warstwach ukrytych (np. 32 lub 64)\n",
        "# + Zmień funkcję straty na mse\n",
        "# + Zastąp relu funkcją tanh\n",
        "# + Wykorzystaj techniki redukujące nadmierne dopasowanie sieci do danych\n",
        "#   uczących, np. redukcja rozmiaru sieci, regularyzacja wag, technika dropout."
      ],
      "execution_count": null,
      "outputs": []
    }
  ]
}