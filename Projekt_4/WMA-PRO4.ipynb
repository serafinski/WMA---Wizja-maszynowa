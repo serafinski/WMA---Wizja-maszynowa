{
 "nbformat": 4,
 "nbformat_minor": 0,
 "metadata": {
  "colab": {
   "provenance": [],
   "gpuType": "T4",
   "authorship_tag": "ABX9TyM1eaHLBmAclRWOWspdUAuE"
  },
  "kernelspec": {
   "name": "python3",
   "display_name": "Python 3"
  },
  "language_info": {
   "name": "python"
  },
  "accelerator": "GPU"
 },
 "cells": [
  {
   "cell_type": "code",
   "execution_count": 3,
   "metadata": {
    "id": "iPrS1EOeYN0O",
    "executionInfo": {
     "status": "ok",
     "timestamp": 1715890645646,
     "user_tz": -120,
     "elapsed": 1746,
     "user": {
      "displayName": "Tomasz Serafiński",
      "userId": "14283087477653595741"
     }
    }
   },
   "outputs": [],
   "source": [
    "# NIE ZWRACAĆ UWAGI NA TEN KOD - PROTOTYPOWANIE W COLAB -> KOD WYKONANY NA LOCALU (model.py)\n",
    "\n",
    "\n",
    "import os\n",
    "import numpy as np\n",
    "import cv2\n",
    "import matplotlib.pyplot as plt\n",
    "from google.colab import drive\n",
    "\n",
    "from sklearn.model_selection import train_test_split\n",
    "\n",
    "from keras.utils import to_categorical\n",
    "\n",
    "from keras.models import Sequential\n",
    "\n",
    "from keras.layers import Conv2D, MaxPooling2D, Dense, Flatten\n",
    "\n",
    "from tensorflow import keras"
   ]
  },
  {
   "cell_type": "code",
   "source": [
    "drive.mount('/content/drive')\n",
    "my_face_folder = '/content/drive/MyDrive/WMA-4/output_frames'\n",
    "youtube_folder = '/content/drive/MyDrive/WMA-4/output_yt'"
   ],
   "metadata": {
    "colab": {
     "base_uri": "https://localhost:8080/"
    },
    "id": "uDjtGRnIYrZl",
    "executionInfo": {
     "status": "ok",
     "timestamp": 1715890666237,
     "user_tz": -120,
     "elapsed": 19023,
     "user": {
      "displayName": "Tomasz Serafiński",
      "userId": "14283087477653595741"
     }
    },
    "outputId": "7fc7528a-f045-4f04-e14a-15fcf05ddb00"
   },
   "execution_count": 4,
   "outputs": [
    {
     "output_type": "stream",
     "name": "stdout",
     "text": [
      "Mounted at /content/drive\n"
     ]
    }
   ]
  },
  {
   "cell_type": "code",
   "source": [
    "def load_images(folder, label):\n",
    "    images = []\n",
    "    labels = []\n",
    "    for filename in os.listdir(folder):\n",
    "        img_path = os.path.join(folder, filename)\n",
    "        # Zamiana na skale szarości\n",
    "        img = cv2.imread(img_path, cv2.IMREAD_GRAYSCALE)\n",
    "        if img is not None:\n",
    "            # Resize do 200x200\n",
    "            img = cv2.resize(img, (200, 200))\n",
    "            # Normalizacja\n",
    "            img = img.astype('float32') / 255\n",
    "            images.append(img)\n",
    "            labels.append(label)\n",
    "    return images, labels"
   ],
   "metadata": {
    "id": "KEDfoiiuZGb0",
    "executionInfo": {
     "status": "ok",
     "timestamp": 1715890667507,
     "user_tz": -120,
     "elapsed": 235,
     "user": {
      "displayName": "Tomasz Serafiński",
      "userId": "14283087477653595741"
     }
    }
   },
   "execution_count": 5,
   "outputs": []
  },
  {
   "cell_type": "code",
   "source": [
    "# Ładowanie danych\n",
    "my_face, my_label = load_images(my_face_folder,1)\n",
    "youtube_face, other_label = load_images(youtube_folder,0)"
   ],
   "metadata": {
    "id": "CBxSgL9yaATW",
    "executionInfo": {
     "status": "ok",
     "timestamp": 1715890769730,
     "user_tz": -120,
     "elapsed": 98003,
     "user": {
      "displayName": "Tomasz Serafiński",
      "userId": "14283087477653595741"
     }
    }
   },
   "execution_count": 6,
   "outputs": []
  },
  {
   "cell_type": "code",
   "source": [
    "# Łączenie zdjęć w jeden set i labelek w jeden set\n",
    "images = np.array(my_face + youtube_face)\n",
    "labels = np.array(my_label + other_label)"
   ],
   "metadata": {
    "id": "XpF_gJAYeBoq"
   },
   "execution_count": null,
   "outputs": []
  },
  {
   "cell_type": "code",
   "source": [
    "# Użycie to_categorical\n",
    "labels = to_categorical(labels, num_classes=2)"
   ],
   "metadata": {
    "id": "v-LZHBYJecUO"
   },
   "execution_count": null,
   "outputs": []
  },
  {
   "cell_type": "code",
   "source": [
    "# Reshape by pasowało do Conv2D (200px x 200px, szkala szarosci)\n",
    "images = images.reshape((images.shape[0],200,200,1))"
   ],
   "metadata": {
    "id": "49SwttTbfQy_"
   },
   "execution_count": null,
   "outputs": []
  },
  {
   "cell_type": "code",
   "source": [
    "# Split na zbiory testowe i zbiory treningowe\n",
    "x_train, x_test, y_train, y_test = train_test_split(images, labels, test_size=0.2, random_state=1999)\n",
    "\n",
    "print(x_train.shape)\n",
    "print(x_test.shape)\n",
    "print()\n",
    "print(y_train.shape)\n",
    "print(y_test.shape)"
   ],
   "metadata": {
    "id": "peY4suV0gF5a",
    "colab": {
     "base_uri": "https://localhost:8080/"
    },
    "executionInfo": {
     "status": "ok",
     "timestamp": 1715881833634,
     "user_tz": -120,
     "elapsed": 210,
     "user": {
      "displayName": "Tomasz Serafiński",
      "userId": "14283087477653595741"
     }
    },
    "outputId": "11d6f8ca-a0b5-48cd-cd97-e9a1826048e6"
   },
   "execution_count": null,
   "outputs": [
    {
     "output_type": "stream",
     "name": "stdout",
     "text": [
      "(2144, 200, 200, 1)\n",
      "(536, 200, 200, 1)\n",
      "\n",
      "(2144, 2)\n",
      "(536, 2)\n"
     ]
    }
   ]
  },
  {
   "cell_type": "code",
   "source": [
    "# Sprawdzenie danych - jak wyglądają\n",
    "for i in range(20):\n",
    "    print(y_test[i])\n",
    "    plt.imshow(x_test[i].reshape(200, 200), cmap='gray')\n",
    "    plt.show()"
   ],
   "metadata": {
    "colab": {
     "base_uri": "https://localhost:8080/",
     "height": 211
    },
    "id": "MGGn5zSFgwjB",
    "executionInfo": {
     "status": "error",
     "timestamp": 1715890639684,
     "user_tz": -120,
     "elapsed": 1117,
     "user": {
      "displayName": "Tomasz Serafiński",
      "userId": "14283087477653595741"
     }
    },
    "outputId": "68d2b31d-f004-4ca8-8b2a-c2d4c31b3539"
   },
   "execution_count": 2,
   "outputs": [
    {
     "output_type": "error",
     "ename": "NameError",
     "evalue": "name 'y_test' is not defined",
     "traceback": [
      "\u001B[0;31m---------------------------------------------------------------------------\u001B[0m",
      "\u001B[0;31mNameError\u001B[0m                                 Traceback (most recent call last)",
      "\u001B[0;32m<ipython-input-2-15c8b5eda5af>\u001B[0m in \u001B[0;36m<cell line: 2>\u001B[0;34m()\u001B[0m\n\u001B[1;32m      1\u001B[0m \u001B[0;31m# Sprawdzenie danych - jak wyglądają\u001B[0m\u001B[0;34m\u001B[0m\u001B[0;34m\u001B[0m\u001B[0m\n\u001B[1;32m      2\u001B[0m \u001B[0;32mfor\u001B[0m \u001B[0mi\u001B[0m \u001B[0;32min\u001B[0m \u001B[0mrange\u001B[0m\u001B[0;34m(\u001B[0m\u001B[0;36m20\u001B[0m\u001B[0;34m)\u001B[0m\u001B[0;34m:\u001B[0m\u001B[0;34m\u001B[0m\u001B[0;34m\u001B[0m\u001B[0m\n\u001B[0;32m----> 3\u001B[0;31m     \u001B[0mprint\u001B[0m\u001B[0;34m(\u001B[0m\u001B[0my_test\u001B[0m\u001B[0;34m[\u001B[0m\u001B[0mi\u001B[0m\u001B[0;34m]\u001B[0m\u001B[0;34m)\u001B[0m\u001B[0;34m\u001B[0m\u001B[0;34m\u001B[0m\u001B[0m\n\u001B[0m\u001B[1;32m      4\u001B[0m     \u001B[0mplt\u001B[0m\u001B[0;34m.\u001B[0m\u001B[0mimshow\u001B[0m\u001B[0;34m(\u001B[0m\u001B[0mx_test\u001B[0m\u001B[0;34m[\u001B[0m\u001B[0mi\u001B[0m\u001B[0;34m]\u001B[0m\u001B[0;34m.\u001B[0m\u001B[0mreshape\u001B[0m\u001B[0;34m(\u001B[0m\u001B[0;36m200\u001B[0m\u001B[0;34m,\u001B[0m \u001B[0;36m200\u001B[0m\u001B[0;34m)\u001B[0m\u001B[0;34m,\u001B[0m \u001B[0mcmap\u001B[0m\u001B[0;34m=\u001B[0m\u001B[0;34m'gray'\u001B[0m\u001B[0;34m)\u001B[0m\u001B[0;34m\u001B[0m\u001B[0;34m\u001B[0m\u001B[0m\n\u001B[1;32m      5\u001B[0m     \u001B[0mplt\u001B[0m\u001B[0;34m.\u001B[0m\u001B[0mshow\u001B[0m\u001B[0;34m(\u001B[0m\u001B[0;34m)\u001B[0m\u001B[0;34m\u001B[0m\u001B[0;34m\u001B[0m\u001B[0m\n",
      "\u001B[0;31mNameError\u001B[0m: name 'y_test' is not defined"
     ]
    }
   ]
  },
  {
   "cell_type": "code",
   "source": [
    "# Budowa modelu\n",
    "\n",
    "# Incicjalizacja\n",
    "model = Sequential()\n",
    "\n",
    "# Pierwsza warstwa konwolucyjna - będzie odkrywać mniej dokładnie - np. kształt obiektu\n",
    "# 32 filtry konwolucyjne (więcej niż 10 bo przekazuje większy obrazek niż w demo)\n",
    "model.add(Conv2D(32, (3, 3), activation='relu', input_shape=(200, 200, 1)))\n",
    "\n",
    "# Pierwszy MaxPooling by zredukować wymiary mapy (z 200 do 100), zmiejszyć overfitting (bo mniej cech) itd...\n",
    "model.add(MaxPooling2D((2, 2)))\n",
    "\n",
    "# Druga warstwa konwolucyjna - będzie odkrywać bardziej dokładne cechy (nos, oczy itp.)\n",
    "# 64 filtry konwolucyjne (więcej niż w 1 warstwie bo wchodzimy na większy poziom abstrakcji / skomplikowania)\n",
    "# Nie podajemy wymiarów, bo keras sobie je po prostu sam weźmie z poprzedniego kroku\n",
    "model.add(Conv2D(64, (3, 3), activation='relu'))\n",
    "\n",
    "# Drugi MaxPoling - redukcja do około 50 cech\n",
    "model.add(MaxPooling2D((2, 2)))\n",
    "\n",
    "# Spłaszczenie do 1 wymiarowego wektora\n",
    "model.add(Flatten())\n",
    "\n",
    "# Pierwsze Dense - więcej dense bo mamy bardziej skomplikowany model\n",
    "model.add(Dense(64, activation='relu'))\n",
    "\n",
    "# 2 bo 2 klasy kwalifikatora - ja i ktoś inny\n",
    "model.add(Dense(2, activation='softmax'))\n",
    "\n",
    "# Kompilacja modelu\n",
    "model.compile(optimizer='rmsprop', loss='categorical_crossentropy', metrics=['accuracy'])\n",
    "\n",
    "# Trenowanie modelu\n",
    "history = model.fit(x_train, y_train, epochs=10, batch_size=64, validation_data=(x_test, y_test), callbacks=[early_stopping])\n",
    "\n",
    "# Zapisanie modelu\n",
    "model.save('MIW_s24353_f_{}_model_fit.h5'.format(1))"
   ],
   "metadata": {
    "colab": {
     "base_uri": "https://localhost:8080/"
    },
    "id": "ZbUN3jj6iVfg",
    "executionInfo": {
     "status": "ok",
     "timestamp": 1715886130160,
     "user_tz": -120,
     "elapsed": 42652,
     "user": {
      "displayName": "Tomasz Serafiński",
      "userId": "14283087477653595741"
     }
    },
    "outputId": "d81685d4-5acd-48f8-ac91-4cbcf0843414"
   },
   "execution_count": null,
   "outputs": [
    {
     "output_type": "stream",
     "name": "stdout",
     "text": [
      "Epoch 1/10\n",
      "34/34 [==============================] - 3s 76ms/step - loss: 0.8354 - accuracy: 0.6973 - val_loss: 0.3837 - val_accuracy: 0.9534\n",
      "Epoch 2/10\n",
      "34/34 [==============================] - 2s 68ms/step - loss: 0.3309 - accuracy: 0.9883 - val_loss: 0.3468 - val_accuracy: 1.0000\n",
      "Epoch 3/10\n",
      "34/34 [==============================] - 2s 59ms/step - loss: 0.3094 - accuracy: 0.9986 - val_loss: 0.3283 - val_accuracy: 0.9944\n",
      "Epoch 4/10\n",
      "34/34 [==============================] - 2s 58ms/step - loss: 0.2928 - accuracy: 0.9995 - val_loss: 0.3109 - val_accuracy: 1.0000\n",
      "Epoch 5/10\n",
      "34/34 [==============================] - 2s 58ms/step - loss: 0.2961 - accuracy: 0.9813 - val_loss: 0.3040 - val_accuracy: 1.0000\n",
      "Epoch 6/10\n",
      "34/34 [==============================] - 2s 59ms/step - loss: 0.2650 - accuracy: 1.0000 - val_loss: 0.2812 - val_accuracy: 1.0000\n",
      "Epoch 7/10\n",
      "34/34 [==============================] - 2s 58ms/step - loss: 0.2504 - accuracy: 0.9995 - val_loss: 0.2666 - val_accuracy: 0.9981\n",
      "Epoch 8/10\n",
      "34/34 [==============================] - 2s 67ms/step - loss: 0.2375 - accuracy: 0.9995 - val_loss: 0.2539 - val_accuracy: 1.0000\n",
      "Epoch 9/10\n",
      "34/34 [==============================] - 2s 61ms/step - loss: 0.2265 - accuracy: 0.9991 - val_loss: 0.2397 - val_accuracy: 1.0000\n",
      "Epoch 10/10\n",
      "34/34 [==============================] - 2s 58ms/step - loss: 0.2131 - accuracy: 1.0000 - val_loss: 0.2275 - val_accuracy: 0.9981\n"
     ]
    }
   ]
  },
  {
   "cell_type": "code",
   "source": [
    "model = keras.models.load_model('MIW_s24353_f_{}_model_fit.h5'.format(1))\n",
    "loss, acc = model.evaluate(x_test, y_test, verbose=0)\n",
    "print('accuracy: {}'.format(acc))\n",
    "print('loss: {}'.format(loss))"
   ],
   "metadata": {
    "colab": {
     "base_uri": "https://localhost:8080/"
    },
    "id": "m2d1LX5NwBZT",
    "executionInfo": {
     "status": "ok",
     "timestamp": 1715886141383,
     "user_tz": -120,
     "elapsed": 1271,
     "user": {
      "displayName": "Tomasz Serafiński",
      "userId": "14283087477653595741"
     }
    },
    "outputId": "23ffb1b2-7d23-4dd6-d288-e5413b53be2b"
   },
   "execution_count": null,
   "outputs": [
    {
     "output_type": "stream",
     "name": "stdout",
     "text": [
      "accuracy: 0.9981343150138855\n",
      "loss: 0.22749337553977966\n"
     ]
    }
   ]
  },
  {
   "cell_type": "code",
   "source": [
    "plt.plot(history.history['loss'])\n",
    "plt.plot(history.history['val_loss'])\n",
    "plt.ylabel('loss')\n",
    "plt.xlabel('epoch')\n",
    "plt.legend(['train', 'test'], loc='upper left')\n",
    "plt.show()\n",
    "plt.plot(history.history['accuracy'])\n",
    "plt.plot(history.history['val_accuracy'])\n",
    "plt.ylabel('accuracy')\n",
    "plt.xlabel('epoch')\n",
    "plt.legend(['train', 'test'], loc='upper left')\n",
    "plt.show()"
   ],
   "metadata": {
    "colab": {
     "base_uri": "https://localhost:8080/",
     "height": 881
    },
    "id": "A1ZvXOy8wLI_",
    "executionInfo": {
     "status": "ok",
     "timestamp": 1715886144441,
     "user_tz": -120,
     "elapsed": 1541,
     "user": {
      "displayName": "Tomasz Serafiński",
      "userId": "14283087477653595741"
     }
    },
    "outputId": "2f8a5422-f0e5-40c0-84b6-34cfa648cbd5"
   },
   "execution_count": null,
   "outputs": [
    {
     "output_type": "display_data",
     "data": {
      "text/plain": [
       "<Figure size 640x480 with 1 Axes>"
      ],
      "image/png": "[encoded data removed]"
     },
     "metadata": {}
    },
    {
     "output_type": "display_data",
     "data": {
      "text/plain": [
       "<Figure size 640x480 with 1 Axes>"
      ],
      "image/png": "[encoded data removed]"
     },
     "metadata": {}
    }
   ]
  },
  {
   "cell_type": "code",
   "source": [
    "# test_tensorflow.py\n",
    "import tensorflow as tf\n",
    "from tensorflow.keras.models import load_model\n",
    "\n",
    "print(\"TensorFlow version:\", tf.__version__)\n",
    "print(\"Keras model load function:\", load_model)\n"
   ],
   "metadata": {
    "colab": {
     "base_uri": "https://localhost:8080/"
    },
    "id": "hyC7vVTAC8ON",
    "executionInfo": {
     "status": "ok",
     "timestamp": 1715890578040,
     "user_tz": -120,
     "elapsed": 4217,
     "user": {
      "displayName": "Tomasz Serafiński",
      "userId": "14283087477653595741"
     }
    },
    "outputId": "98652bcc-b217-452d-baf4-08305401d7d0"
   },
   "execution_count": 1,
   "outputs": [
    {
     "output_type": "stream",
     "name": "stdout",
     "text": [
      "TensorFlow version: 2.15.0\n",
      "Keras model load function: <function load_model at 0x7879803a6dd0>\n"
     ]
    }
   ]
  }
 ]
}
