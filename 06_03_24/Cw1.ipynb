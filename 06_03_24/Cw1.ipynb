{
  "cells": [
    {
      "cell_type": "markdown",
      "metadata": {
        "id": "jOmZODKmMe10"
      },
      "source": [
        "#Colab"
      ]
    },
    {
      "cell_type": "markdown",
      "metadata": {
        "id": "aOi0MSafKt2V"
      },
      "source": [
        "\n",
        "Możemy tworzyc pola tekstowe oraz do programowania\n",
        "\n",
        "Jezeli chcemy zmienić procesor na którym operujemy wchodzimy w Środowisko wykonawcze->zmień tryb środowiska wykonawczego i możemy zmienić procesor TPU/GPU. W większości przypadków na GPU obliczenia będą się wykonywały szybciej. Procesory są nam przypisywane losowo dla tego nie zawsze trafimy na ten sam."
      ]
    },
    {
      "cell_type": "code",
      "execution_count": null,
      "metadata": {
        "id": "q49IRDeMGMkY"
      },
      "outputs": [],
      "source": [
        "# Ponieważ serwer colab bazuje na platformie linux możemy używac komend basha\n",
        "# Wyświetlenie aktualnej ścieżki\n",
        "!pwd"
      ]
    },
    {
      "cell_type": "code",
      "execution_count": null,
      "metadata": {
        "id": "C0A5a7aqK2PD"
      },
      "outputs": [],
      "source": [
        "# Wyświetlenie zawartości katalogu\n",
        "!ls"
      ]
    },
    {
      "cell_type": "code",
      "execution_count": null,
      "metadata": {
        "id": "edY1JZK4K4t5"
      },
      "outputs": [],
      "source": [
        "# Tworzenie katalogu\n",
        "!mkdir test"
      ]
    },
    {
      "cell_type": "code",
      "execution_count": null,
      "metadata": {
        "id": "ib4_2KjSK7Dr"
      },
      "outputs": [],
      "source": [
        "!ls"
      ]
    },
    {
      "cell_type": "code",
      "execution_count": null,
      "metadata": {
        "id": "XV3-uGv5K9dj"
      },
      "outputs": [],
      "source": [
        "# Usunięcie katalogu\n",
        "!rm -r test"
      ]
    },
    {
      "cell_type": "code",
      "execution_count": null,
      "metadata": {
        "id": "Us9Yip2VK_qc"
      },
      "outputs": [],
      "source": [
        "!ls"
      ]
    },
    {
      "cell_type": "code",
      "execution_count": null,
      "metadata": {
        "id": "GWzYwIDOLCX9"
      },
      "outputs": [],
      "source": [
        "# Instalacja pakietu\n",
        "!pip install tensorflow"
      ]
    },
    {
      "cell_type": "markdown",
      "metadata": {
        "id": "y3QcIzEfLN06"
      },
      "source": [
        "# Pliki"
      ]
    },
    {
      "cell_type": "markdown",
      "metadata": {
        "id": "qXy11XCXLRcm"
      },
      "source": [
        "## Pliki lokalne"
      ]
    },
    {
      "cell_type": "code",
      "execution_count": null,
      "metadata": {
        "id": "ZJy6LDjsLU87"
      },
      "outputs": [],
      "source": [
        "from google.colab import files"
      ]
    },
    {
      "cell_type": "code",
      "execution_count": null,
      "metadata": {
        "id": "LJ4ODF2eLXfp"
      },
      "outputs": [],
      "source": [
        "uploaded = files.upload()"
      ]
    },
    {
      "cell_type": "code",
      "execution_count": null,
      "metadata": {
        "id": "4iSPQJYyLh-H"
      },
      "outputs": [],
      "source": [
        "for fn in uploaded.keys():\n",
        "  print('User uploaded file \"{name}\" with length {length} bytes'.format(name=fn, length=len(uploaded[fn])))"
      ]
    },
    {
      "cell_type": "code",
      "execution_count": null,
      "metadata": {
        "id": "HMyhmsRSLlI3"
      },
      "outputs": [],
      "source": [
        "with open('test.txt', 'w') as f:\n",
        "  f.write('some content')"
      ]
    },
    {
      "cell_type": "code",
      "execution_count": null,
      "metadata": {
        "id": "QkbvlQ6zLny0",
        "colab": {
          "base_uri": "https://localhost:8080/",
          "height": 17
        },
        "outputId": "15e6944f-147e-4185-ae50-40fd63a60a22"
      },
      "outputs": [
        {
          "output_type": "display_data",
          "data": {
            "text/plain": [
              "<IPython.core.display.Javascript object>"
            ],
            "application/javascript": [
              "\n",
              "    async function download(id, filename, size) {\n",
              "      if (!google.colab.kernel.accessAllowed) {\n",
              "        return;\n",
              "      }\n",
              "      const div = document.createElement('div');\n",
              "      const label = document.createElement('label');\n",
              "      label.textContent = `Downloading \"${filename}\": `;\n",
              "      div.appendChild(label);\n",
              "      const progress = document.createElement('progress');\n",
              "      progress.max = size;\n",
              "      div.appendChild(progress);\n",
              "      document.body.appendChild(div);\n",
              "\n",
              "      const buffers = [];\n",
              "      let downloaded = 0;\n",
              "\n",
              "      const channel = await google.colab.kernel.comms.open(id);\n",
              "      // Send a message to notify the kernel that we're ready.\n",
              "      channel.send({})\n",
              "\n",
              "      for await (const message of channel.messages) {\n",
              "        // Send a message to notify the kernel that we're ready.\n",
              "        channel.send({})\n",
              "        if (message.buffers) {\n",
              "          for (const buffer of message.buffers) {\n",
              "            buffers.push(buffer);\n",
              "            downloaded += buffer.byteLength;\n",
              "            progress.value = downloaded;\n",
              "          }\n",
              "        }\n",
              "      }\n",
              "      const blob = new Blob(buffers, {type: 'application/binary'});\n",
              "      const a = document.createElement('a');\n",
              "      a.href = window.URL.createObjectURL(blob);\n",
              "      a.download = filename;\n",
              "      div.appendChild(a);\n",
              "      a.click();\n",
              "      div.remove();\n",
              "    }\n",
              "  "
            ]
          },
          "metadata": {}
        },
        {
          "output_type": "display_data",
          "data": {
            "text/plain": [
              "<IPython.core.display.Javascript object>"
            ],
            "application/javascript": [
              "download(\"download_9bdb5914-6491-480f-b250-4b560c0e19a3\", \"test.txt\", 12)"
            ]
          },
          "metadata": {}
        }
      ],
      "source": [
        "files.download('test.txt')"
      ]
    },
    {
      "cell_type": "markdown",
      "metadata": {
        "id": "bL7xbnWNLqhe"
      },
      "source": [
        "## Google drive"
      ]
    },
    {
      "cell_type": "code",
      "execution_count": null,
      "metadata": {
        "id": "UkMatslwLuy4"
      },
      "outputs": [],
      "source": [
        "from google.colab import drive\n",
        "drive.mount('/content/drive')"
      ]
    },
    {
      "cell_type": "code",
      "execution_count": null,
      "metadata": {
        "id": "Vbg6aNikLyFP"
      },
      "outputs": [],
      "source": [
        "with open('drive/MyDrive/Aktualne/MIW Letnie 2024/test.txt', 'w') as f:\n",
        "  f.write('Hello Google Drive!')"
      ]
    },
    {
      "cell_type": "code",
      "execution_count": null,
      "metadata": {
        "id": "KiFhNm4_Scu4"
      },
      "outputs": [],
      "source": [
        "!cat drive/MyDrive/Aktualne/MIW\\ Letnie\\ 2024/test.txt"
      ]
    },
    {
      "cell_type": "code",
      "execution_count": null,
      "metadata": {
        "id": "BSlOVIrASkXg"
      },
      "outputs": [],
      "source": [
        "!ln -s /content/drive/MyDrive/Aktualne/miw\\ letnie\\ 2022/cw2_test pliki"
      ]
    },
    {
      "cell_type": "markdown",
      "metadata": {
        "id": "CB_ozSdCL1D0"
      },
      "source": [
        "https://colab.research.google.com/notebooks/io.ipynb"
      ]
    },
    {
      "cell_type": "markdown",
      "metadata": {
        "id": "BGRx0GmnMH2Y"
      },
      "source": [
        "# Numpy\n",
        "\n",
        "Tablice do operacji na macierzach.\n"
      ]
    },
    {
      "cell_type": "code",
      "execution_count": null,
      "metadata": {
        "id": "2IkqdYyeMKYs"
      },
      "outputs": [],
      "source": [
        "import numpy as np\n",
        "import matplotlib.pyplot as plt\n"
      ]
    },
    {
      "cell_type": "code",
      "execution_count": null,
      "metadata": {
        "id": "onZG8eiQMMp8"
      },
      "outputs": [],
      "source": [
        "A = np.array([[1, 2, 3], [4, 5, 6]])\n",
        "print(A)"
      ]
    },
    {
      "cell_type": "code",
      "execution_count": null,
      "metadata": {
        "id": "-BP1_NwiMPf4"
      },
      "outputs": [],
      "source": [
        "A = A.transpose()\n",
        "print(A)"
      ]
    },
    {
      "cell_type": "code",
      "execution_count": null,
      "metadata": {
        "id": "karbiGDdMR_p"
      },
      "outputs": [],
      "source": [
        "print(A * A)\n",
        "print(A * 3)"
      ]
    },
    {
      "cell_type": "code",
      "execution_count": null,
      "metadata": {
        "id": "gDVt_qJlMUdq"
      },
      "outputs": [],
      "source": [
        "t = np.arange(0., 5., 0.5)\n",
        "plt.plot(t, t, 'ro', t, t**2, 'b^', t, t**3, 'g.')\n",
        "plt.show()\n",
        "t"
      ]
    },
    {
      "cell_type": "code",
      "execution_count": null,
      "metadata": {
        "id": "z0d6CBlpMW_K"
      },
      "outputs": [],
      "source": [
        "n = np.zeros(16)\n",
        "print(n)\n",
        "n = n.astype('int32')\n",
        "print(n)\n",
        "n = np.array([x for x in range(len(n))])\n",
        "print(n)\n",
        "n = n.reshape(4, 4)\n",
        "print(n)"
      ]
    },
    {
      "cell_type": "code",
      "execution_count": null,
      "metadata": {
        "id": "SmObd6M6-l0b"
      },
      "outputs": [],
      "source": [
        "arr = np.array([1, 2, 3, 4, 5, 6, 7])\n",
        "\n",
        "print(arr[-5:-1])"
      ]
    },
    {
      "cell_type": "code",
      "execution_count": null,
      "metadata": {
        "id": "d6Nw1eVF-ycO"
      },
      "outputs": [],
      "source": [
        "print(arr[1:6:2])"
      ]
    },
    {
      "cell_type": "code",
      "execution_count": null,
      "metadata": {
        "id": "ZSCM0_BD-6_6"
      },
      "outputs": [],
      "source": [
        "print(arr[::2])"
      ]
    },
    {
      "cell_type": "code",
      "execution_count": null,
      "metadata": {
        "id": "s0f7uaBj-6zW"
      },
      "outputs": [],
      "source": [
        "print(arr[:2])"
      ]
    },
    {
      "cell_type": "code",
      "execution_count": null,
      "metadata": {
        "id": "42LN78VZ_Nnf"
      },
      "outputs": [],
      "source": [
        "print(arr[2:])"
      ]
    },
    {
      "cell_type": "code",
      "execution_count": null,
      "metadata": {
        "id": "T538J9TOAxgs"
      },
      "outputs": [],
      "source": [
        "arr2 = arr\n",
        "print(arr)\n",
        "arr2[2]=9\n",
        "print(arr2)\n",
        "print(arr)"
      ]
    },
    {
      "cell_type": "code",
      "execution_count": null,
      "metadata": {
        "id": "OOdeNKtQBBdt"
      },
      "outputs": [],
      "source": [
        "arr2 = arr.copy()\n",
        "print(arr)\n",
        "arr2[2]=20\n",
        "print(arr2)\n",
        "print(arr)"
      ]
    },
    {
      "cell_type": "code",
      "execution_count": null,
      "metadata": {
        "id": "Q-Mkb2-ZDZCW"
      },
      "outputs": [],
      "source": [
        "arr1 = np.array([1, 2, 3])\n",
        "\n",
        "arr2 = np.array([4, 5, 6])\n",
        "\n",
        "arr = np.concatenate((arr1, arr2))\n",
        "\n",
        "print(arr)"
      ]
    },
    {
      "cell_type": "code",
      "execution_count": null,
      "metadata": {
        "id": "xfh8AxquDmfT"
      },
      "outputs": [],
      "source": [
        "arr = np.stack((arr1, arr2), axis=1)\n",
        "\n",
        "print(arr)"
      ]
    },
    {
      "cell_type": "code",
      "execution_count": null,
      "metadata": {
        "id": "_KRhmTuaD4xK"
      },
      "outputs": [],
      "source": [
        "arr = np.hstack((arr1, arr2))\n",
        "\n",
        "print(arr)"
      ]
    },
    {
      "cell_type": "code",
      "execution_count": null,
      "metadata": {
        "id": "votUXPnvD7W9"
      },
      "outputs": [],
      "source": [
        "arr = np.vstack((arr1, arr2))\n",
        "\n",
        "print(arr)"
      ]
    },
    {
      "cell_type": "code",
      "execution_count": null,
      "metadata": {
        "id": "L-bo2X1xEh7r"
      },
      "outputs": [],
      "source": [
        "arr = np.dstack((arr1, arr2))\n",
        "\n",
        "print(arr)"
      ]
    },
    {
      "cell_type": "markdown",
      "metadata": {
        "id": "KAb1Ctm2MZhl"
      },
      "source": [
        "https://www.w3schools.com/python/numpy_intro.asp"
      ]
    },
    {
      "cell_type": "markdown",
      "metadata": {
        "id": "lg4TsEp2MaZO"
      },
      "source": [
        "#OpenCV"
      ]
    },
    {
      "cell_type": "code",
      "execution_count": null,
      "metadata": {
        "id": "d6AIevVi5BL1"
      },
      "outputs": [],
      "source": [
        "import cv2\n",
        "image = cv2.imread('drive/MyDrive/miata.jpg')\n",
        "print(len(image))\n",
        "print(len(image[0]))"
      ]
    },
    {
      "cell_type": "code",
      "execution_count": null,
      "metadata": {
        "id": "JvPZ4YN55Q4A"
      },
      "outputs": [],
      "source": [
        "plt.imshow(image)\n",
        "plt.show()"
      ]
    },
    {
      "cell_type": "code",
      "execution_count": null,
      "metadata": {
        "id": "pJq5MljP5Wi-"
      },
      "outputs": [],
      "source": [
        "from google.colab.patches import cv2_imshow\n",
        "cv2_imshow(image)"
      ]
    },
    {
      "cell_type": "code",
      "execution_count": null,
      "metadata": {
        "id": "Tjc9nAJxlV0J"
      },
      "outputs": [],
      "source": [
        "image[2500:3000][10:2000]=0\n",
        "plt.imshow(image)\n",
        "plt.show()"
      ]
    },
    {
      "cell_type": "code",
      "execution_count": null,
      "metadata": {
        "id": "puMGMbdV5tiV"
      },
      "outputs": [],
      "source": [
        "h, w = image.shape[:2]\n",
        "print(\"Height = {},  Width = {}\".format(h, w))"
      ]
    },
    {
      "cell_type": "code",
      "execution_count": null,
      "metadata": {
        "id": "3MlcvVmETD7_"
      },
      "outputs": [],
      "source": [
        "roi = image[850 : 2100, 400 : 1500].copy()\n",
        "plt.imshow(roi)\n",
        "plt.show()"
      ]
    },
    {
      "cell_type": "code",
      "execution_count": null,
      "metadata": {
        "id": "oQ6lOoLmTQFm"
      },
      "outputs": [],
      "source": [
        "cv2_imshow(roi)"
      ]
    },
    {
      "cell_type": "code",
      "execution_count": null,
      "metadata": {
        "id": "QMUarer49MRi"
      },
      "outputs": [],
      "source": [
        "text = cv2.putText(roi, 'Piesek', (100, 100),\n",
        "                   cv2.FONT_HERSHEY_SIMPLEX, 4, (255, 0, 0), 4)\n",
        "cv2_imshow(roi)"
      ]
    },
    {
      "cell_type": "code",
      "execution_count": null,
      "metadata": {
        "id": "WztrGsVg7BuF"
      },
      "outputs": [],
      "source": [
        "cv2.imwrite('test.jpg',roi)"
      ]
    }
  ],
  "metadata": {
    "colab": {
      "provenance": []
    },
    "kernelspec": {
      "display_name": "Python 3",
      "name": "python3"
    },
    "language_info": {
      "name": "python"
    }
  },
  "nbformat": 4,
  "nbformat_minor": 0
}