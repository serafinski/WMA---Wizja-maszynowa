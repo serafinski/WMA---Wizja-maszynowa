{
  "cells": [
    {
      "cell_type": "code",
      "execution_count": null,
      "metadata": {
        "id": "EGoc7cqi4sjb"
      },
      "outputs": [],
      "source": [
        "import numpy as np\n",
        "import matplotlib.pyplot as plt\n",
        "from keras.datasets import mnist\n",
        "from tensorflow.keras.utils import to_categorical"
      ]
    },
    {
      "cell_type": "code",
      "execution_count": null,
      "metadata": {
        "id": "iYDId4Crgxtt"
      },
      "outputs": [],
      "source": [
        "(x_train, y_train), (x_test, y_test) = mnist.load_data()\n",
        "x_train = x_train.astype('float32') / 255\n",
        "x_test = x_test.astype('float32') / 255\n",
        "y_test=to_categorical(y_test)\n",
        "y_train=to_categorical(y_train)\n",
        "print(x_train.shape)\n",
        "print(x_test.shape)"
      ]
    },
    {
      "cell_type": "code",
      "execution_count": null,
      "metadata": {
        "id": "rGpj5_jTg1fY"
      },
      "outputs": [],
      "source": [
        "\n",
        "for i in range(20):\n",
        "    print(y_test[i])\n",
        "    plt.imshow(x_test[i])\n",
        "    plt.show()"
      ]
    },
    {
      "cell_type": "code",
      "execution_count": null,
      "metadata": {
        "id": "XuGpYmsiiB1t"
      },
      "outputs": [],
      "source": [
        "from keras.models import Sequential\n",
        "from keras.layers import Conv2D\n",
        "from keras.layers import MaxPooling2D\n",
        "from keras.layers import Dense\n",
        "from keras.layers import Flatten\n",
        "\n",
        "model = Sequential()\n",
        "\n",
        "model.add(Conv2D(10, (3, 3), activation='relu', input_shape=(28, 28, 1)))\n",
        "model.add(MaxPooling2D((2, 2)))\n",
        "model.add(Flatten())\n",
        "model.add(Dense(10, activation='softmax'))\n",
        "\n",
        "model.compile(optimizer='rmsprop', loss='categorical_crossentropy', metrics=['accuracy'])\n",
        "\n",
        "history = model.fit(x_train, y_train, epochs=50, batch_size=64, validation_data=(x_test, y_test))\n",
        "\n",
        "model.save('miw_sXXXXX_f_{}_model_fit.h5'.format(1))"
      ]
    },
    {
      "cell_type": "code",
      "execution_count": null,
      "metadata": {
        "id": "gjkWxcR6iHjm"
      },
      "outputs": [],
      "source": [
        "from tensorflow import keras\n",
        "model = keras.models.load_model('miw_sXXXXX_f_{}_model_fit.h5'.format(1))\n",
        "loss, acc = model.evaluate(x_test, y_test, verbose=0)\n",
        "print('accuracy: {}'.format(acc))\n",
        "print('loss: {}'.format(loss))"
      ]
    },
    {
      "cell_type": "code",
      "execution_count": null,
      "metadata": {
        "id": "p4CNa8OxiJRc"
      },
      "outputs": [],
      "source": [
        "plt.plot(history.history['loss'])\n",
        "plt.plot(history.history['val_loss'])\n",
        "plt.ylabel('loss')\n",
        "plt.xlabel('epoch')\n",
        "plt.legend(['train', 'test'], loc='upper left')\n",
        "plt.show()\n",
        "plt.plot(history.history['accuracy'])\n",
        "plt.plot(history.history['val_accuracy'])\n",
        "plt.ylabel('accuracy')\n",
        "plt.xlabel('epoch')\n",
        "plt.legend(['train', 'test'], loc='upper left')\n",
        "plt.show()"
      ]
    },
    {
      "cell_type": "markdown",
      "source": [
        "#zad 1\n",
        "Zbierz zestaw danych, na kartce narysuj jak najwięcej cyfr, zrób ich zdjęcie i odpowiednio oznacz."
      ],
      "metadata": {
        "id": "pZsPzVubAGUY"
      }
    },
    {
      "cell_type": "markdown",
      "source": [
        "#zad 2\n",
        "Przy pomocy opencv postaraj się jak najbardizej zniwelować tło zdjęć oraz oczyścić zdjęcie."
      ],
      "metadata": {
        "id": "pktRzR0qAYhm"
      }
    },
    {
      "cell_type": "markdown",
      "source": [
        "#zad 3\n",
        "Stwórz i wytrenuj sieć konwolucyjną która będzie w stanie sklasyfikować wcześniej przygotowane cyfry."
      ],
      "metadata": {
        "id": "GwhMpgPcBPux"
      }
    }
  ],
  "metadata": {
    "colab": {
      "provenance": []
    },
    "kernelspec": {
      "display_name": "Python 3",
      "name": "python3"
    },
    "language_info": {
      "name": "python"
    },
    "accelerator": "GPU",
    "gpuClass": "standard"
  },
  "nbformat": 4,
  "nbformat_minor": 0
}