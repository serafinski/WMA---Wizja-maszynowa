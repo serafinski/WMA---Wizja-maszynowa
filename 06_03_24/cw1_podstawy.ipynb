{
 "nbformat": 4,
 "nbformat_minor": 0,
 "metadata": {
  "colab": {
   "provenance": []
  },
  "kernelspec": {
   "name": "python3",
   "language": "python",
   "display_name": "Python 3 (ipykernel)"
  }
 },
 "cells": [
  {
   "cell_type": "markdown",
   "metadata": {
    "id": "TKO2aH8ZaE5y"
   },
   "source": [
    "Możemy tworzyc pola tekstowe oraz do programowania\n",
    "\n",
    "Jezeli chcemy zmienić procesor na którym operujemy wchodzimy w Środowisko wykonawcze->zmień tryb środowiska wykonawczego i możemy zmienić procesor TPU/GPU.\n",
    "W większości przypadków na GPU obliczenia będą się wykonywały szybciej. Procesory są nam przypisywane losowo dla tego nie zawsze trafimy na ten sam."
   ]
  },
  {
   "cell_type": "code",
   "metadata": {
    "id": "nJB-dEMUWkgk",
    "ExecuteTime": {
     "end_time": "2024-03-06T11:41:54.244636Z",
     "start_time": "2024-03-06T11:41:54.088762Z"
    }
   },
   "source": [
    "# Ponieważ serwer colab bazuje na platformie linux możemy używac komend basha\n",
    "# Wyświetlenie aktualnej ścieżki\n",
    "!pwd"
   ],
   "execution_count": 2,
   "outputs": [
    {
     "name": "stdout",
     "output_type": "stream",
     "text": [
      "/Users/tomek/Desktop/GIT/WMA-Wizja-maszynowa/06_03_24\r\n"
     ]
    }
   ]
  },
  {
   "cell_type": "code",
   "metadata": {
    "id": "x2Iy2sJHWsR6",
    "ExecuteTime": {
     "end_time": "2024-03-06T11:42:05.838415Z",
     "start_time": "2024-03-06T11:42:05.669811Z"
    }
   },
   "source": [
    "# Wyświetlenie zawartości katalogu\n",
    "!ls"
   ],
   "execution_count": 3,
   "outputs": [
    {
     "name": "stdout",
     "output_type": "stream",
     "text": [
      "\u001B[31mCw1.ipynb\u001B[m\u001B[m          cw1_podstawy.ipynb\r\n"
     ]
    }
   ]
  },
  {
   "cell_type": "code",
   "metadata": {
    "id": "Vc2bm5vQWnTs"
   },
   "source": [
    "# Tworzenie katalogu\n",
    "!mkdir test"
   ],
   "execution_count": null,
   "outputs": []
  },
  {
   "cell_type": "code",
   "metadata": {
    "id": "7ocG1u54Wteh"
   },
   "source": [
    "!ls"
   ],
   "execution_count": null,
   "outputs": []
  },
  {
   "cell_type": "code",
   "metadata": {
    "id": "gnx4y7mJZY_O"
   },
   "source": [
    "# Usunięcie katalogu\n",
    "!rm -r test"
   ],
   "execution_count": null,
   "outputs": []
  },
  {
   "cell_type": "code",
   "metadata": {
    "id": "fiAAKeneZiU6"
   },
   "source": [
    "!ls"
   ],
   "execution_count": null,
   "outputs": []
  },
  {
   "cell_type": "code",
   "metadata": {
    "id": "rBe5BwD6r7ge"
   },
   "source": [
    "# Instalacja pakietu\n",
    "!pip install tensorflow"
   ],
   "execution_count": null,
   "outputs": []
  },
  {
   "cell_type": "code",
   "metadata": {
    "id": "T6CwrK-Z0IJV"
   },
   "source": [
    "%lsmagic"
   ],
   "execution_count": null,
   "outputs": []
  },
  {
   "cell_type": "code",
   "metadata": {
    "id": "5qL79RJa0O3d"
   },
   "source": [
    "%quickref"
   ],
   "execution_count": null,
   "outputs": []
  },
  {
   "cell_type": "code",
   "metadata": {
    "id": "9piKpHxh0gDV"
   },
   "source": [
    "help()"
   ],
   "execution_count": null,
   "outputs": []
  },
  {
   "cell_type": "code",
   "metadata": {
    "id": "_OeXznrfW1c3"
   },
   "source": [
    "# Punktem wejścia programu jest pierwsza komenda napisana\n",
    "# w zerowym wcięciu.\n",
    "print('Hello world')"
   ],
   "execution_count": null,
   "outputs": []
  },
  {
   "cell_type": "code",
   "metadata": {
    "id": "h9mEWXPGW5FP"
   },
   "source": [
    "# Brak średników\n",
    "# Jeżeli chcemy wypisać jakąś zmienną która nie jest napisem\n",
    "# dla typów wbódowanych wystarczy napisać\n",
    "print(12)\n",
    "t=5\n",
    "print(t)"
   ],
   "execution_count": null,
   "outputs": []
  },
  {
   "cell_type": "code",
   "metadata": {
    "id": "f4fiVbbKW7Vf"
   },
   "source": [
    "# Do wypisania sformatowanego napisu tak jak w printf znanym\n",
    "# z C należy użyć metody format z klasy string\n",
    "print('{} ma {} koty'.format(\"Ala\", t))\n",
    "\n",
    "# Dobry opis składni format znajduje się na stronie\n",
    "# https://www.programiz.com/python-programming/methods/string/format"
   ],
   "execution_count": null,
   "outputs": []
  },
  {
   "cell_type": "code",
   "metadata": {
    "id": "9ero5sncXpds"
   },
   "source": [
    "# W pythonie nie deklaruje się jawnie typów zmiennych jednak ma się\n",
    "# na niego wpływ\n",
    "x = 'abc' # string\n",
    "print(type(x))\n",
    "x = 'a' # nadal string, nie ma tu typu dla pojedynczego znaku\n",
    "print(type(x))\n",
    "x = 12 # integer\n",
    "print(type(x))\n",
    "x = 12.0 # float (tak naprawdę odpowiednik double z C)\n",
    "print(type(x))\n",
    "# Jak widać na powyższym przykładzie zmienną można redefiniować\n",
    "# nawet jako zmienną innego typu."
   ],
   "execution_count": null,
   "outputs": []
  },
  {
   "cell_type": "code",
   "metadata": {
    "id": "ISMrRWW7q_mv"
   },
   "source": [
    "# Liczby zespolone\n",
    "a = 1.5 + 0.5j\n",
    "print(a)\n",
    "# Możemy pobrać pojedyńcze wartości z liczby zespolonej\n",
    "print(a.real)\n",
    "print(a.imag)\n",
    "# Możne wykonywać operacje arytmetycnze na całej liczbie\n",
    "a = a * 2\n",
    "print(a)\n",
    "a = a + 2\n",
    "print(a)\n",
    "a = a + 2j\n",
    "print(a)"
   ],
   "execution_count": null,
   "outputs": []
  },
  {
   "cell_type": "code",
   "metadata": {
    "id": "P9hwRvqhrnbL"
   },
   "source": [
    "# Do wartości losowych wykorzystujemy klase random\n",
    "import random as ran\n",
    "\n",
    "liczba = ran.randint(1, 10)\n",
    "print(liczba)"
   ],
   "execution_count": null,
   "outputs": []
  },
  {
   "cell_type": "code",
   "metadata": {
    "id": "rShRL5etX5_I"
   },
   "source": [
    "# Innymi ważnymi konstrukcjami w pythonie są listy i słowniki\n",
    "l = [23, 43, 11, 8] # Lista cztero elementowa\n",
    "pl = [] # Pusta lista\n",
    "s = {'Ala':12, 'Jan': 46, 'Roman': 68} # Słownik\n",
    "ps = {} # Pusty słownik\n",
    "\n",
    "l.append(6) # Dodajemy element do listy\n",
    "s['Jadwiga'] = 6 # Dodajemy element do słownika\n",
    "l[2] = 0 # Zmieniamy wartość w liście\n",
    "s['Ala'] = 18 # Zmieniamy wartość w słowniku\n",
    "f = {2:'a', 4:'6'}\n",
    "print(f[2])"
   ],
   "execution_count": null,
   "outputs": []
  },
  {
   "cell_type": "code",
   "metadata": {
    "id": "gyHRq5DKYALV"
   },
   "source": [
    "# Po listach można iterować za pomocą pętli for\n",
    "for a in l:\n",
    "  print(a)\n",
    "# Poszczególne bloki kodu oznaczamy tabulacją a nie klamrami {}"
   ],
   "execution_count": null,
   "outputs": []
  },
  {
   "cell_type": "code",
   "metadata": {
    "id": "4kYLRT6aYI4u"
   },
   "source": [
    "# Jeżeli chcemy iterować po słowniku musimy\n",
    "# użyć metody która zwróci nam listę par\n",
    "# klucz:warotść\n",
    "for key, value in s.items():\n",
    "    print('{} : {}'.format(key, value))"
   ],
   "execution_count": null,
   "outputs": []
  },
  {
   "cell_type": "code",
   "metadata": {
    "id": "ZgZFIYjQYK_k"
   },
   "source": [
    "# W pythonie nie ma pętli for takiej jak w C, Bardziej przypomina pętle z basha\n",
    "# jeżeli chcemy iterować po kolejnych liczbach\n",
    "# musimy użyć funckji range która wygeneruje nam\n",
    "# listę z liczbami\n",
    "for i in range(10):\n",
    "    print(i)\n",
    "print('---')\n",
    "for i in range(15, 20):\n",
    "    print(i)\n",
    "print('---')\n",
    "for i in range(0, 10, 2):\n",
    "  print(i)"
   ],
   "execution_count": null,
   "outputs": []
  },
  {
   "cell_type": "code",
   "metadata": {
    "id": "ZudAVuDhYK3f"
   },
   "source": [
    "# Poprawny sposób iterowania po liście przy jednoczesnym\n",
    "# dostępie do indeksu aktualnego elementu wygląda następująco\n",
    "for index, value in enumerate(l):\n",
    "    print('{} : {}'.format(index, value))"
   ],
   "execution_count": null,
   "outputs": []
  },
  {
   "cell_type": "code",
   "metadata": {
    "id": "9j5hu4zoYKvE"
   },
   "source": [
    "# Inną możliwą pętlą jest while\n",
    "a = 3\n",
    "while a>len(pl):\n",
    "    pl.append(3)\n",
    "# len(l) zwraca rozmiar listy l\n",
    "print(pl)\n",
    "# Podobnie jak w C w pythonie można przerywać pętle za pomocą\n",
    "# instrukcji break i continue"
   ],
   "execution_count": null,
   "outputs": []
  },
  {
   "cell_type": "code",
   "metadata": {
    "id": "TFJGXmAaYKiH"
   },
   "source": [
    "# Konstrukcja if else wygląda następująco\n",
    "a = ran.randint(1, 10)\n",
    "if a>3:\n",
    "    print('a jest większe od 3')\n",
    "elif a<0:\n",
    "    print('a jest liczbą ujemną')\n",
    "else:\n",
    "    print('a jest w przedziale od 0 do 3')"
   ],
   "execution_count": null,
   "outputs": []
  },
  {
   "cell_type": "code",
   "metadata": {
    "id": "22URiw4PYcEu"
   },
   "source": [
    "# Jeżeli lista zawiera typy podstawowe lub dobrze zdefiniowane klasy\n",
    "# możemy wykorzystać różne przydatne funkcje\n",
    "print(min(l))\n",
    "print(max(l))\n",
    "print(sum(l))\n",
    "print(sum(l) / len(l))"
   ],
   "execution_count": null,
   "outputs": []
  },
  {
   "cell_type": "code",
   "metadata": {
    "id": "A96Az6SlMPtf"
   },
   "source": [
    "# Zwróćmy uwagę na to jakie wyniki daje dzielenie (// dzielenie bez reszty)\n",
    "a = 1\n",
    "b = 2\n",
    "c = 1.0\n",
    "d = 2.0\n",
    "print('{} ({})'.format(a / b, type(a / b)))\n",
    "print('{} ({})'.format(a / d, type(a / d)))\n",
    "print('{} ({})'.format(c / b, type(c / b)))\n",
    "print('{} ({})'.format(c / d, type(c / d)))\n",
    "print('{} ({})'.format(a // b, type(a // b)))\n",
    "print('{} ({})'.format(c // d, type(c // d)))"
   ],
   "execution_count": null,
   "outputs": []
  },
  {
   "cell_type": "code",
   "metadata": {
    "id": "XMf5syckUbrB"
   },
   "source": [
    "\n",
    "# Tak wygląda definicja klasy w Pythonie.\n",
    "# W odróżnieniu od Javy czy C++ nie deklaruje się oddzielnie pól klasy, tworzone\n",
    "# są one w chwili inicjalizacji w konstruktorze.\n",
    "# Możliwe jest dynamiczne dodawanie pól do już istniejących obiektów.\n",
    "# Nie stosuje się tutaj też zazwyczaj getterów i setterów chyba że mają jakieś\n",
    "# dodatkowe funkcjonalnosci, jak na przykład obsługa błędów.\n",
    "class MyComplex:\n",
    "\n",
    "    # To jest konstruktor. W pythonie nie ma możliwości przeładowania\n",
    "    # konstruktora. Dodatkowo w karzdej metodzie klasy trzeba zadeklarować\n",
    "    # self, odpowiednik this z C, jako jawny parametr\n",
    "    def __init__(self, re=4., im=0.):\n",
    "        # Dobrze jest się w konstruktorze upewnić że wszystko jest takiego typu\n",
    "        # jak chcemy.\n",
    "        # Możliwe jest podanie dowolnych typów jako parametry i jeżeli obiekt\n",
    "        # ma długi cykl życia to błąd może się pojawić bardzo daleko od swojego\n",
    "        # źródła.\n",
    "        self.re = float(re)\n",
    "        self.im = float(im)\n",
    "\n",
    "    # Przykład najzwyklejszej metody, sprawdza czy dana liczba ma zerową\n",
    "    # część urojoną.\n",
    "    def is_real_number(self):\n",
    "        return self.im == 0  # Do pól trzeba odwoływać się przez self.nazwa_pola\n",
    "\n",
    "    # Metody specjalne mają na końcu i na początku dwa podkreślniki.\n",
    "    # Ta funkcja zostanie wywołana kiedy będziemy chcieli przekonwertować obiekt do napisu.\n",
    "    def __str__(self):\n",
    "        return '{} + i{}'.format(self.re, self.im)\n",
    "\n",
    "    # Ta funkcja wywoływana jest też przy konwersji do napisu ale w innych kontekstach.\n",
    "    # Dla większości podstawowych zastosowań starczy implementacja jak poniżej\n",
    "    def __repr__(self):\n",
    "        return self.__str__()\n",
    "\n",
    "    # Funkcja obsługuje dodawanie\n",
    "    def __add__(self, other):\n",
    "        # Jeżeli druga liczba jest też zespolona dodajemy odpowiednio części\n",
    "        # rzeczywiste i urojone\n",
    "        if isinstance(other, MyComplex):\n",
    "            return MyComplex(self.re + other.re, self.im + other.im)\n",
    "        # Jeżeli jest to liczba rzeczywista do dodajemy ją do części rzeczywistej\n",
    "        # naszej liczby.\n",
    "        elif isinstance(other, (int, float)):\n",
    "            return MyComplex(self.re + other, self.im)\n",
    "        else:\n",
    "            raise TypeError()"
   ],
   "execution_count": null,
   "outputs": []
  },
  {
   "cell_type": "code",
   "source": [
    "a = MyComplex(1, 4)\n",
    "b = MyComplex(im=5.)\n",
    "print('a={}'.format(a))\n",
    "print('b={}'.format(b))\n",
    "print('a+b={}'.format(a + b))"
   ],
   "metadata": {
    "id": "2P6IynqSdUYk"
   },
   "execution_count": null,
   "outputs": []
  },
  {
   "cell_type": "code",
   "metadata": {
    "id": "rZmLyufspXIl"
   },
   "source": [
    "# Dobrze napisany skrypt w pythonie tak naprawdę nie powinien mieć swojego głównego kodu\n",
    "# w \"zerowym wcięciu\" ponieważ powoduje to problemy przy importach.\n",
    "# Dokładniej taki kod zostanie wywołany w chwili zaimportowania danego skryptu.\n",
    "# Dlatego należy stworzyć funkcję main() a następnie uruchamiać ją tylko wtedy kiedy skrypt\n",
    "# został wywołany bezpośrednio z terminala a nie poprzez improt.\n",
    "def main():\n",
    "    # Demonstracja naszej klasy\n",
    "    a = MyComplex(1, 4)\n",
    "    b = MyComplex(3, 3)\n",
    "    print('a={}'.format(a))\n",
    "    print('b={}'.format(b))\n",
    "    print('a+b={}'.format(a + b))\n",
    "\n",
    "    # Kilka ciekawych zmiennych specjalnych\n",
    "    print(__name__) #  Nazwa modółu jeżeli import albo \"__main__\" jeżli odpalone z konsoli\n",
    "    print(globals()) #  Słownik zawierający zmienne globalne (można go edytować)\n",
    "    print(locals())  # Słownik zawierający zmienne lokalne (można go edytować)"
   ],
   "execution_count": null,
   "outputs": []
  },
  {
   "cell_type": "code",
   "metadata": {
    "id": "d4vJTBr4pZ0j"
   },
   "source": [
    "# Ta konstrukcja sprawdza czy nasz skrypt został wywołany bezpośrednio z konsoli,\n",
    "if __name__ == '__main__':\n",
    "    main()"
   ],
   "execution_count": null,
   "outputs": []
  },
  {
   "cell_type": "code",
   "source": [
    "try:\n",
    "  i=5+'ala'\n",
    "except TypeError:\n",
    "  print('nie')"
   ],
   "metadata": {
    "id": "XbqLljj7euo7"
   },
   "execution_count": null,
   "outputs": []
  }
 ]
}
